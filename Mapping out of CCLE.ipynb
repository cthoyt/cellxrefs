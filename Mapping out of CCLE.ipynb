{
 "cells": [
  {
   "cell_type": "markdown",
   "id": "solar-content",
   "metadata": {},
   "source": [
    "Cell lines are a bit of a mess, especially CCLE, since it doesn't have stable identifiers. This notebook uses PyOBO to assess if and to what extent mapping away from CCLE is possible."
   ]
  },
  {
   "cell_type": "code",
   "execution_count": 1,
   "id": "interpreted-property",
   "metadata": {},
   "outputs": [],
   "source": [
    "import getpass\n",
    "import itertools as itt\n",
    "import sys\n",
    "import time\n",
    "\n",
    "import matplotlib.pyplot as plt\n",
    "import pandas as pd\n",
    "import pyobo\n",
    "import seaborn as sns\n",
    "from pyobo.utils.io import write_map_tsv"
   ]
  },
  {
   "cell_type": "code",
   "execution_count": 2,
   "id": "pending-easter",
   "metadata": {},
   "outputs": [
    {
     "name": "stdout",
     "output_type": "stream",
     "text": [
      "3.9.5 (default, May  4 2021, 03:36:27) \n",
      "[Clang 12.0.0 (clang-1200.0.32.29)]\n"
     ]
    }
   ],
   "source": [
    "print(sys.version)"
   ]
  },
  {
   "cell_type": "code",
   "execution_count": 3,
   "id": "known-scheduling",
   "metadata": {},
   "outputs": [
    {
     "name": "stdout",
     "output_type": "stream",
     "text": [
      "Thu Jul  8 10:06:06 2021\n"
     ]
    }
   ],
   "source": [
    "print(time.asctime())"
   ]
  },
  {
   "cell_type": "code",
   "execution_count": 4,
   "id": "uniform-things",
   "metadata": {},
   "outputs": [
    {
     "name": "stdout",
     "output_type": "stream",
     "text": [
      "cthoyt\n"
     ]
    }
   ],
   "source": [
    "print(getpass.getuser())"
   ]
  },
  {
   "cell_type": "code",
   "execution_count": 5,
   "id": "practical-massage",
   "metadata": {},
   "outputs": [
    {
     "name": "stdout",
     "output_type": "stream",
     "text": [
      "0.5.1-dev\n"
     ]
    }
   ],
   "source": [
    "print(pyobo.get_version())"
   ]
  },
  {
   "cell_type": "code",
   "execution_count": 6,
   "id": "public-father",
   "metadata": {},
   "outputs": [],
   "source": [
    "prefixes = sorted([\n",
    "    'ccle.cell',\n",
    "    'cellosaurus',\n",
    "    'efo',\n",
    "    # 'clo',\n",
    "    'cl',\n",
    "    'depmap',\n",
    "    'bto',\n",
    "])"
   ]
  },
  {
   "cell_type": "code",
   "execution_count": 7,
   "id": "continent-minority",
   "metadata": {},
   "outputs": [],
   "source": [
    "prefix_to_identifiers = {}\n",
    "for prefix in prefixes:\n",
    "    try:\n",
    "        prefix_to_identifiers[prefix] = pyobo.get_ids(prefix, strict=False)\n",
    "    except Exception:\n",
    "        continue"
   ]
  },
  {
   "cell_type": "code",
   "execution_count": 8,
   "id": "superior-tanzania",
   "metadata": {},
   "outputs": [],
   "source": [
    "mappings = {}\n",
    "\n",
    "for p1, p2 in itt.product(prefix_to_identifiers, repeat=2):\n",
    "    if p1 == p2:\n",
    "        continue\n",
    "    mappings[p1, p2] = pyobo.get_filtered_xrefs(p1, p2)"
   ]
  },
  {
   "cell_type": "code",
   "execution_count": 9,
   "id": "legendary-consistency",
   "metadata": {},
   "outputs": [
    {
     "data": {
      "text/html": [
       "<div>\n",
       "<style scoped>\n",
       "    .dataframe tbody tr th:only-of-type {\n",
       "        vertical-align: middle;\n",
       "    }\n",
       "\n",
       "    .dataframe tbody tr th {\n",
       "        vertical-align: top;\n",
       "    }\n",
       "\n",
       "    .dataframe thead tr th {\n",
       "        text-align: left;\n",
       "    }\n",
       "\n",
       "    .dataframe thead tr:last-of-type th {\n",
       "        text-align: right;\n",
       "    }\n",
       "</style>\n",
       "<table border=\"1\" class=\"dataframe\">\n",
       "  <thead>\n",
       "    <tr>\n",
       "      <th></th>\n",
       "      <th colspan=\"6\" halign=\"left\">n</th>\n",
       "    </tr>\n",
       "    <tr>\n",
       "      <th>to_prefix</th>\n",
       "      <th>bto</th>\n",
       "      <th>ccle.cell</th>\n",
       "      <th>cellosaurus</th>\n",
       "      <th>cl</th>\n",
       "      <th>depmap</th>\n",
       "      <th>efo</th>\n",
       "    </tr>\n",
       "    <tr>\n",
       "      <th>from_prefix</th>\n",
       "      <th></th>\n",
       "      <th></th>\n",
       "      <th></th>\n",
       "      <th></th>\n",
       "      <th></th>\n",
       "      <th></th>\n",
       "    </tr>\n",
       "  </thead>\n",
       "  <tbody>\n",
       "    <tr>\n",
       "      <th>bto</th>\n",
       "      <td>0</td>\n",
       "      <td>0</td>\n",
       "      <td>0</td>\n",
       "      <td>0</td>\n",
       "      <td>0</td>\n",
       "      <td>0</td>\n",
       "    </tr>\n",
       "    <tr>\n",
       "      <th>ccle.cell</th>\n",
       "      <td>0</td>\n",
       "      <td>0</td>\n",
       "      <td>0</td>\n",
       "      <td>0</td>\n",
       "      <td>1457</td>\n",
       "      <td>0</td>\n",
       "    </tr>\n",
       "    <tr>\n",
       "      <th>cellosaurus</th>\n",
       "      <td>2352</td>\n",
       "      <td>0</td>\n",
       "      <td>0</td>\n",
       "      <td>0</td>\n",
       "      <td>1788</td>\n",
       "      <td>1296</td>\n",
       "    </tr>\n",
       "    <tr>\n",
       "      <th>cl</th>\n",
       "      <td>254</td>\n",
       "      <td>0</td>\n",
       "      <td>0</td>\n",
       "      <td>0</td>\n",
       "      <td>0</td>\n",
       "      <td>1</td>\n",
       "    </tr>\n",
       "    <tr>\n",
       "      <th>depmap</th>\n",
       "      <td>0</td>\n",
       "      <td>0</td>\n",
       "      <td>1678</td>\n",
       "      <td>0</td>\n",
       "      <td>0</td>\n",
       "      <td>0</td>\n",
       "    </tr>\n",
       "    <tr>\n",
       "      <th>efo</th>\n",
       "      <td>63</td>\n",
       "      <td>0</td>\n",
       "      <td>0</td>\n",
       "      <td>2</td>\n",
       "      <td>0</td>\n",
       "      <td>0</td>\n",
       "    </tr>\n",
       "  </tbody>\n",
       "</table>\n",
       "</div>"
      ],
      "text/plain": [
       "                n                                      \n",
       "to_prefix     bto ccle.cell cellosaurus cl depmap   efo\n",
       "from_prefix                                            \n",
       "bto             0         0           0  0      0     0\n",
       "ccle.cell       0         0           0  0   1457     0\n",
       "cellosaurus  2352         0           0  0   1788  1296\n",
       "cl            254         0           0  0      0     1\n",
       "depmap          0         0        1678  0      0     0\n",
       "efo            63         0           0  2      0     0"
      ]
     },
     "execution_count": 9,
     "metadata": {},
     "output_type": "execute_result"
    }
   ],
   "source": [
    "data = pd.DataFrame(columns=['from_prefix', 'to_prefix', 'n'], data=[\n",
    "    (from_prefix, to_prefix, len(m))\n",
    "    for (from_prefix, to_prefix), m in mappings.items()\n",
    "]).pivot('from_prefix', 'to_prefix').fillna(0.0).astype(int)\n",
    "data"
   ]
  },
  {
   "cell_type": "code",
   "execution_count": 10,
   "id": "surgical-shelter",
   "metadata": {},
   "outputs": [
    {
     "data": {
      "text/plain": [
       "<AxesSubplot:xlabel='None-to_prefix', ylabel='from_prefix'>"
      ]
     },
     "execution_count": 10,
     "metadata": {},
     "output_type": "execute_result"
    },
    {
     "data": {
      "image/png": "[encoded data removed]",
      "text/plain": [
       "<Figure size 432x288 with 2 Axes>"
      ]
     },
     "metadata": {},
     "output_type": "display_data"
    }
   ],
   "source": [
    "sns.set_style('whitegrid')\n",
    "sns.heatmap(data)\n",
    "plt.show()"
   ]
  },
  {
   "cell_type": "code",
   "execution_count": 11,
   "id": "killing-breast",
   "metadata": {},
   "outputs": [],
   "source": [
    "def cdict(x):\n",
    "    return {k:v for k,v in x if v}"
   ]
  },
  {
   "cell_type": "code",
   "execution_count": 12,
   "id": "novel-illustration",
   "metadata": {},
   "outputs": [
    {
     "name": "stdout",
     "output_type": "stream",
     "text": [
      "Got 1457 mappings from CCLE to DepMap\n"
     ]
    }
   ],
   "source": [
    "ccle_depmap = pyobo.get_filtered_xrefs('ccle', 'depmap')\n",
    "print('Got', len(ccle_depmap), 'mappings from CCLE to DepMap')"
   ]
  },
  {
   "cell_type": "code",
   "execution_count": 13,
   "id": "official-contribution",
   "metadata": {},
   "outputs": [
    {
     "name": "stdout",
     "output_type": "stream",
     "text": [
      "Got 1444 mappings from CCLE to Cellosaurus (via DepMap)\n"
     ]
    }
   ],
   "source": [
    "ccle_cellosaurus = cdict(\n",
    "    (ccle_id, pyobo.get_xref('depmap', depmap_id, 'cellosaurus'))\n",
    "    for ccle_id, depmap_id in ccle_depmap.items()\n",
    ")\n",
    "print('Got', len(ccle_cellosaurus), 'mappings from CCLE to Cellosaurus (via DepMap)')"
   ]
  },
  {
   "cell_type": "code",
   "execution_count": 14,
   "id": "general-conservation",
   "metadata": {},
   "outputs": [
    {
     "name": "stdout",
     "output_type": "stream",
     "text": [
      "Got 714 mappings from CCLE to EFO (via DepMap then Cellosaurus)\n"
     ]
    }
   ],
   "source": [
    "ccle_efo = cdict(\n",
    "    (ccle_id, pyobo.get_xref('cellosaurus', cvcl_id, 'efo'))\n",
    "    for ccle_id, cvcl_id in ccle_cellosaurus.items()\n",
    ")\n",
    "print('Got', len(ccle_efo), 'mappings from CCLE to EFO (via DepMap then Cellosaurus)')"
   ]
  },
  {
   "cell_type": "code",
   "execution_count": 15,
   "id": "demanding-manor",
   "metadata": {},
   "outputs": [
    {
     "name": "stdout",
     "output_type": "stream",
     "text": [
      "Got 595 mappings from CCLE to Brenda Tissue Ontology (via DepMap then Cellosaurus)\n"
     ]
    }
   ],
   "source": [
    "ccle_bto = cdict(\n",
    "    (ccle_id, pyobo.get_xref('cellosaurus', cvcl_id, 'bto'))\n",
    "    for ccle_id, cvcl_id in ccle_cellosaurus.items()\n",
    ")\n",
    "print('Got', len(ccle_bto), 'mappings from CCLE to Brenda Tissue Ontology (via DepMap then Cellosaurus)')"
   ]
  },
  {
   "cell_type": "code",
   "execution_count": 16,
   "id": "pending-blame",
   "metadata": {},
   "outputs": [],
   "source": [
    "write_map_tsv(path='ccle_depmap.tsv', header=['ccle', 'depmap'], rv=ccle_depmap)\n",
    "write_map_tsv(path='ccle_cellosaurus.tsv', header=['ccle', 'cellosaurus'], rv=ccle_cellosaurus)\n",
    "write_map_tsv(path='ccle_efo.tsv', header=['ccle', 'efo'], rv=ccle_efo)\n",
    "write_map_tsv(path='ccle_bto.tsv', header=['ccle', 'bto'], rv=ccle_bto)"
   ]
  }
 ],
 "metadata": {
  "kernelspec": {
   "display_name": "Python 3",
   "language": "python",
   "name": "python3"
  },
  "language_info": {
   "codemirror_mode": {
    "name": "ipython",
    "version": 3
   },
   "file_extension": ".py",
   "mimetype": "text/x-python",
   "name": "python",
   "nbconvert_exporter": "python",
   "pygments_lexer": "ipython3",
   "version": "3.9.5"
  }
 },
 "nbformat": 4,
 "nbformat_minor": 5
}
